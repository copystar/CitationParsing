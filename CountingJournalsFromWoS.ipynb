{
 "cells": [
  {
   "cell_type": "markdown",
   "metadata": {},
   "source": [
    "# Selecting and counting journal names from a set of Web of Science records"
   ]
  },
  {
   "cell_type": "markdown",
   "metadata": {
    "collapsed": true
   },
   "source": [
    "For this particular example, I have a set of 5 records from Web of Science in BibTex format. But what works for 5 records should also work for 500. "
   ]
  },
  {
   "cell_type": "markdown",
   "metadata": {},
   "source": [
    "###But before that, thanks must be extended!  \n",
    "Much thanks to Scott Moynes who was kind enough to unpuzzle the bibliographic.parsing module for me!  \n",
    "https://gist.github.com/copystar/082ee2161f9c7a54c47a  "
   ]
  },
  {
   "cell_type": "markdown",
   "metadata": {},
   "source": [
    "## Install the modules "
   ]
  },
  {
   "cell_type": "markdown",
   "metadata": {},
   "source": [
    "apt-get install bibutils  \n",
    "pip install zope.component  \n",
    "pip install zope.schema  \n",
    "pip install bibliograph.rendering  \n",
    "pip install bibliograph.parsing  "
   ]
  },
  {
   "cell_type": "code",
   "execution_count": 33,
   "metadata": {
    "collapsed": true
   },
   "outputs": [],
   "source": [
    "# This imports a bibtex file and parses the records into a list of python dictionaries\n",
    "\n",
    "from bibliograph.parsing.parsers.bibtex import BibtexParser\n",
    "bib = open('setof5.bib').read()\n",
    "parser = BibtexParser()\n",
    "source = parser.preprocess(bib)\n",
    "result = parser.getEntries(source)\n",
    "from pprint import pprint\n",
    "\n"
   ]
  },
  {
   "cell_type": "code",
   "execution_count": 2,
   "metadata": {
    "collapsed": false
   },
   "outputs": [
    {
     "name": "stdout",
     "output_type": "stream",
     "text": [
      "[{'DOI': '10.1016/j.ins.2015.02.018',\n",
      "  'EISSN': '1872-6291',\n",
      "  'ISSN': '0020-0255',\n",
      "  'JOURNAL': 'INFORMATION SCIENCES',\n",
      "  'MONTH': 'JUN 10',\n",
      "  'PAGES': '166-179',\n",
      "  'TITLE': 'A chi-square method for priority derivation in group decision making    with incomplete reciprocal preference relations',\n",
      "  'UNIQUE-ID': 'ISI:000351803800011',\n",
      "  'VOLUME': '306',\n",
      "  'YEAR': '2015',\n",
      "  'author': ['Xu, Yejun and Chen, Lei and Li, Kevin W. and Wang, Huimin'],\n",
      "  'authors': [{'firstname': 'Yejun', 'lastname': 'Xu', 'middlename': ''},\n",
      "              {'firstname': 'Lei', 'lastname': 'Chen', 'middlename': ''},\n",
      "              {'firstname': 'Kevin', 'lastname': 'Li', 'middlename': 'W.'},\n",
      "              {'firstname': 'Huimin', 'lastname': 'Wang', 'middlename': ''}],\n",
      "  'doi': '10.1016/j.ins.2015.02.018',\n",
      "  'eissn': '1872-6291',\n",
      "  'identifiers': [{'label': 'DOI', 'value': '10.1016/j.ins.2015.02.018'},\n",
      "                  {'label': 'ISSN', 'value': '0020-0255'}],\n",
      "  'issn': '0020-0255',\n",
      "  'journal': 'INFORMATION SCIENCES',\n",
      "  'month': 'JUN 10',\n",
      "  'pages': '166-179',\n",
      "  'pid': 'ISI:000351803800011',\n",
      "  'publication_month': 'JUN 10',\n",
      "  'publication_url': '',\n",
      "  'publication_year': '2015',\n",
      "  'reference_type': 'ArticleReference',\n",
      "  'title': 'A chi-square method for priority derivation in group decision making with incomplete reciprocal preference relations',\n",
      "  'unique-id': 'ISI:000351803800011',\n",
      "  'volume': '306',\n",
      "  'year': '2015'},\n",
      " {'DOI': '10.1016/j.carbon.2015.01.053',\n",
      "  'EISSN': '1873-3891',\n",
      "  'ISSN': '0008-6223',\n",
      "  'JOURNAL': 'CARBON',\n",
      "  'MONTH': 'JUN',\n",
      "  'PAGES': '374-384',\n",
      "  'TITLE': 'Role of humidity in reducing sliding friction of multilayered graphene',\n",
      "  'UNIQUE-ID': 'ISI:000352332900039',\n",
      "  'VOLUME': '87',\n",
      "  'YEAR': '2015',\n",
      "  'author': ['Bhowmick, Sukanta and Banerji, Anindya and Alpas, Ahmet T.'],\n",
      "  'authors': [{'firstname': 'Sukanta',\n",
      "               'lastname': 'Bhowmick',\n",
      "               'middlename': ''},\n",
      "              {'firstname': 'Anindya',\n",
      "               'lastname': 'Banerji',\n",
      "               'middlename': ''},\n",
      "              {'firstname': 'Ahmet',\n",
      "               'lastname': 'Alpas',\n",
      "               'middlename': 'T.'}],\n",
      "  'doi': '10.1016/j.carbon.2015.01.053',\n",
      "  'eissn': '1873-3891',\n",
      "  'identifiers': [{'label': 'DOI', 'value': '10.1016/j.carbon.2015.01.053'},\n",
      "                  {'label': 'ISSN', 'value': '0008-6223'}],\n",
      "  'issn': '0008-6223',\n",
      "  'journal': 'CARBON',\n",
      "  'month': 'JUN',\n",
      "  'pages': '374-384',\n",
      "  'pid': 'ISI:000352332900039',\n",
      "  'publication_month': 'JUN',\n",
      "  'publication_url': '',\n",
      "  'publication_year': '2015',\n",
      "  'reference_type': 'ArticleReference',\n",
      "  'title': 'Role of humidity in reducing sliding friction of multilayered graphene',\n",
      "  'unique-id': 'ISI:000352332900039',\n",
      "  'volume': '87',\n",
      "  'year': '2015'},\n",
      " {'DOI': '10.1016/j.neucom.2015.01.030',\n",
      "  'EISSN': '1872-8286',\n",
      "  'ISSN': '0925-2312',\n",
      "  'JOURNAL': 'NEUROCOMPUTING',\n",
      "  'MONTH': 'JUN 1',\n",
      "  'PAGES': '105-117',\n",
      "  'TITLE': 'Pattern classification using a new border identification paradigm: The    nearest border technique',\n",
      "  'UNIQUE-ID': 'ISI:000351801600011',\n",
      "  'VOLUME': '157',\n",
      "  'YEAR': '2015',\n",
      "  'author': ['Li, Yifeng and Oommen, B. John and Ngom, Alioune and Rueda, Luis'],\n",
      "  'authors': [{'firstname': 'Yifeng', 'lastname': 'Li', 'middlename': ''},\n",
      "              {'firstname': 'B.',\n",
      "               'lastname': 'Oommen',\n",
      "               'middlename': 'John'},\n",
      "              {'firstname': 'Alioune', 'lastname': 'Ngom', 'middlename': ''},\n",
      "              {'firstname': 'Luis', 'lastname': 'Rueda', 'middlename': ''}],\n",
      "  'doi': '10.1016/j.neucom.2015.01.030',\n",
      "  'eissn': '1872-8286',\n",
      "  'identifiers': [{'label': 'DOI', 'value': '10.1016/j.neucom.2015.01.030'},\n",
      "                  {'label': 'ISSN', 'value': '0925-2312'}],\n",
      "  'issn': '0925-2312',\n",
      "  'journal': 'NEUROCOMPUTING',\n",
      "  'month': 'JUN 1',\n",
      "  'pages': '105-117',\n",
      "  'pid': 'ISI:000351801600011',\n",
      "  'publication_month': 'JUN 1',\n",
      "  'publication_url': '',\n",
      "  'publication_year': '2015',\n",
      "  'reference_type': 'ArticleReference',\n",
      "  'title': 'Pattern classification using a new border identification paradigm: The nearest border technique',\n",
      "  'unique-id': 'ISI:000351801600011',\n",
      "  'volume': '157',\n",
      "  'year': '2015'},\n",
      " {'DOI': '10.1016/j.neucom.2015.01.025',\n",
      "  'EISSN': '1872-8286',\n",
      "  'ISSN': '0925-2312',\n",
      "  'JOURNAL': 'NEUROCOMPUTING',\n",
      "  'MONTH': 'JUN 1',\n",
      "  'PAGES': '143-152',\n",
      "  'TITLE': 'A new contrast based multimodal medical image fusion framework',\n",
      "  'UNIQUE-ID': 'ISI:000351801600014',\n",
      "  'VOLUME': '157',\n",
      "  'YEAR': '2015',\n",
      "  'author': ['Bhatnagar, Gaurav and Wu, Q. M. Jonathan and Liu, Zheng'],\n",
      "  'authors': [{'firstname': 'Gaurav',\n",
      "               'lastname': 'Bhatnagar',\n",
      "               'middlename': ''},\n",
      "              {'firstname': 'Q.',\n",
      "               'lastname': 'Wu',\n",
      "               'middlename': 'M. Jonathan'},\n",
      "              {'firstname': 'Zheng', 'lastname': 'Liu', 'middlename': ''}],\n",
      "  'doi': '10.1016/j.neucom.2015.01.025',\n",
      "  'eissn': '1872-8286',\n",
      "  'identifiers': [{'label': 'DOI', 'value': '10.1016/j.neucom.2015.01.025'},\n",
      "                  {'label': 'ISSN', 'value': '0925-2312'}],\n",
      "  'issn': '0925-2312',\n",
      "  'journal': 'NEUROCOMPUTING',\n",
      "  'month': 'JUN 1',\n",
      "  'pages': '143-152',\n",
      "  'pid': 'ISI:000351801600014',\n",
      "  'publication_month': 'JUN 1',\n",
      "  'publication_url': '',\n",
      "  'publication_year': '2015',\n",
      "  'reference_type': 'ArticleReference',\n",
      "  'title': 'A new contrast based multimodal medical image fusion framework',\n",
      "  'unique-id': 'ISI:000351801600014',\n",
      "  'volume': '157',\n",
      "  'year': '2015'},\n",
      " {'DOI': '10.1016/j.patcog.2014.12.019',\n",
      "  'EISSN': '1873-5142',\n",
      "  'ISSN': '0031-3203',\n",
      "  'JOURNAL': 'PATTERN RECOGNITION',\n",
      "  'MONTH': 'JUN',\n",
      "  'NUMBER': '6',\n",
      "  'PAGES': '2084-2095',\n",
      "  'TITLE': 'A non-parametric Bayesian model for bounded data',\n",
      "  'UNIQUE-ID': 'ISI:000350925900011',\n",
      "  'VOLUME': '48',\n",
      "  'YEAR': '2015',\n",
      "  'author': ['Thanh Minh Nguyen and Wu, Q. M. Jonathan'],\n",
      "  'authors': [{'firstname': 'Thanh',\n",
      "               'lastname': 'Nguyen',\n",
      "               'middlename': 'Minh'},\n",
      "              {'firstname': 'Q.',\n",
      "               'lastname': 'Wu',\n",
      "               'middlename': 'M. Jonathan'}],\n",
      "  'doi': '10.1016/j.patcog.2014.12.019',\n",
      "  'eissn': '1873-5142',\n",
      "  'identifiers': [{'label': 'DOI', 'value': '10.1016/j.patcog.2014.12.019'},\n",
      "                  {'label': 'ISSN', 'value': '0031-3203'}],\n",
      "  'issn': '0031-3203',\n",
      "  'journal': 'PATTERN RECOGNITION',\n",
      "  'month': 'JUN',\n",
      "  'number': '6',\n",
      "  'pages': '2084-2095',\n",
      "  'pid': 'ISI:000350925900011',\n",
      "  'publication_month': 'JUN',\n",
      "  'publication_url': '',\n",
      "  'publication_year': '2015',\n",
      "  'reference_type': 'ArticleReference',\n",
      "  'title': 'A non-parametric Bayesian model for bounded data',\n",
      "  'unique-id': 'ISI:000350925900011',\n",
      "  'volume': '48',\n",
      "  'year': '2015'}]\n"
     ]
    }
   ],
   "source": [
    "pprint(result)"
   ]
  },
  {
   "cell_type": "code",
   "execution_count": 30,
   "metadata": {
    "collapsed": false
   },
   "outputs": [
    {
     "name": "stdout",
     "output_type": "stream",
     "text": [
      "['INFORMATION SCIENCES', 'CARBON', 'NEUROCOMPUTING', 'NEUROCOMPUTING', 'PATTERN RECOGNITION']\n"
     ]
    }
   ],
   "source": [
    "# This uses list comprehension to go through each item of the list and get the values associated with 'journal'\n",
    "\n",
    "journals = [ r.get('journal') for r in result]\n",
    "print journals"
   ]
  },
  {
   "cell_type": "code",
   "execution_count": 32,
   "metadata": {
    "collapsed": false
   },
   "outputs": [
    {
     "name": "stdout",
     "output_type": "stream",
     "text": [
      "[('NEUROCOMPUTING', 2), ('CARBON', 1), ('PATTERN RECOGNITION', 1), ('INFORMATION SCIENCES', 1)]\n"
     ]
    }
   ],
   "source": [
    "# This uses the Python module Counter\n",
    "# It returns the list of journal names in order of the number of times that they appear\n",
    "\n",
    "from collections import Counter\n",
    "journals_to_count = (word for word in journals if word[:1].isupper())\n",
    "c = Counter(journals_to_count)\n",
    "print c.most_common(5)"
   ]
  },
  {
   "cell_type": "code",
   "execution_count": null,
   "metadata": {
    "collapsed": true
   },
   "outputs": [],
   "source": []
  }
 ],
 "metadata": {
  "kernelspec": {
   "display_name": "Python 2",
   "language": "python",
   "name": "python2"
  },
  "language_info": {
   "codemirror_mode": {
    "name": "ipython",
    "version": 2
   },
   "file_extension": ".py",
   "mimetype": "text/x-python",
   "name": "python",
   "nbconvert_exporter": "python",
   "pygments_lexer": "ipython2",
   "version": "2.7.6"
  }
 },
 "nbformat": 4,
 "nbformat_minor": 0
}
